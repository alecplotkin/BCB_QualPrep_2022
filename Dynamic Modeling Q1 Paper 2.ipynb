{
 "cells": [
  {
   "cell_type": "markdown",
   "id": "c5fa46ec-907f-4fd1-991b-234a03834c9c",
   "metadata": {},
   "source": [
    "# Objective\n",
    "\n",
    "Recreate figures from Tsyganov et al. (2012). "
   ]
  },
  {
   "cell_type": "markdown",
   "id": "057ee5e8-eb54-4a52-98bd-e4676d4848b0",
   "metadata": {},
   "source": [
    "# Equations\n",
    "\n",
    "*Note: I wrote all this out so that I could understand the arithmetic that they're using. There are a lot of variables and substitutions, so I wanted to make sure that I got it all. After all that, I feel pretty confident saying that you can probably skip this first part if you want. The equations that we actually need are the dimensionless ones, which are further down. I will put a note where those begin.*\n",
    "\n",
    "## Building the model from Michaelis-Menten (can skip this part)\n",
    "\n",
    "The system of equations is as follows:\n",
    "\n",
    "$$\\frac{dG_1P}{dt} = v_1 - v_2$$\n",
    "$$\\frac{dG_2P}{dt} = v_3 - v_4$$\n",
    "\n",
    "Where the rates $v_1, v_2, v_3, v_4$ are defined as:\n",
    "\n",
    "$$v_1 = \\alpha_{11}\\alpha_{21}w_1$$\n",
    "$$v_2 = \\alpha_{12}\\alpha_{22}w_2$$\n",
    "$$v_3 = \\alpha_{13}w_3$$\n",
    "$$v_4 = \\alpha_{14}w_4$$\n",
    "\n",
    "These rates are composed of the multipliers for each regulation ($\\alpha_{ij}$) and the Michaelis-Menten rates $w_i$. The $w$s are defined as:\n",
    "\n",
    "$$w_1 = V_1 \\frac{G_1/K_1}{1 + G_1/K_1}$$\n",
    "$$w_2 = V_2 \\frac{G_1P/K_2}{1 + G_1P/K_2}$$\n",
    "$$w_3 = V_3 \\frac{G_2/K_3}{1 + G_2/K_3}$$\n",
    "$$w_4 = V_4 \\frac{G_2P/K_4}{1 + G_2P/K_4}$$\n",
    "\n",
    "The multipliers $\\alpha_{ij}$ explain the strength of a regulatory interaction. Inhibition occurs when $\\alpha_{ij} < 1$, Activation is when $\\alpha_{ij} > 1$, and $\\alpha_{ij}$ occurs when there is no regulatory effect. The multipliers are defined to have \"hyperbolic modifier kinetics\", dependent on the existing GTPase concentrations:\n",
    "\n",
    "$$\\alpha_{ij} = F(a_{ij}, G_iP, K_{ij}) = \\frac{1 + a_{ij}G_iP/K_{ij}}{1 + G_iP/K_{ij}}$$\n",
    "\n",
    "To make things even more confusing, they introduce the constant $a_{ij}$. This has similar interpretation to $\\alpha_{ij}$, where $a_{ij} < 1$ is inhibition, $a_{ij} > 1$ is activation, and $a_{ij} = 1$ is no regulation.\n",
    "\n",
    "## Making it dimensionless (these are the equations that we will actually use)\n",
    "\n",
    "Next, they make these equations dimensionless by dividing $G_iP$ (and $G_i$) by $G_i^\\text{tot}$. This yields the fraction of activated GTPase, $g_ip$ (and $(1 - g_ip)$). The system of equations then becomes:\n",
    "\n",
    "$$\\frac{dg_1p}{dt} = \\alpha_{11}\\alpha_{21}u_1 - \\alpha_{12}\\alpha_{22}u_2$$\n",
    "$$\\frac{dg_2p}{dt} = \\alpha_{13}u_3 - \\alpha_{14}u_4$$\n",
    "\n",
    "Where $u_1, u_2, u_3, u_4$ are dimensionless versions of $v_1, v_2, v_3, v_4$, such that:\n",
    "\n",
    "$$u_1 = r_1\\frac{(1 - g_1p)/m_1}{1 + (1 - g_1p)/m_1}$$\n",
    "$$u_2 = r_2\\frac{g_1p/m_2}{1 + g_1p/m_2}$$\n",
    "$$u_3 = r_3\\frac{(1 - g_2p)/m_3}{1 + (1 - g_2p)/m_3}$$\n",
    "$$u_4 = r_4\\frac{g_2p/m_4}{1 + g_2p/m_4}$$\n",
    "\n",
    "Note that $g_ip$ is substituted for $G_iP/G_i^\\text{tot}$ and $(1 - g_ip)$ is substituted for $G_i/G_i^\\text{tot}$. The constants $m_i$ and $r_i$ are defined based on $K_i$ and $V_i$, respectively, such that:\n",
    "\n",
    "$$m_1 = K_1 / G_1^\\text{tot}, m_2 = K_2/G_1^\\text{tot}, m_3 = K_3/G_2^\\text{tot}, m_4 = K_4/G_2^\\text{tot}$$\n",
    "$$r_1 = V_1/G_1^\\text{tot}, r_2 = V_2/G_1^\\text{tot}, r_3 = V_3/G_2^\\text{tot}, r_4 = V_4/G_2^\\text{tot}$$\n",
    "\n",
    "**These dimensionless parameters are the ones that are used in the simulations for the figures.** "
   ]
  },
  {
   "cell_type": "markdown",
   "id": "561a3ce9-9b5e-4405-9184-a1a7fe8643e5",
   "metadata": {},
   "source": [
    "# Solving for the nullclines\n",
    "\n",
    "We find the $g_1p$ and $g_2p$ nullclines by solving for $\\frac{dg_1p}{dt} = 0$ and $\\frac{dg_2p}{dt} = 0$, respectively.\n",
    "\n",
    "We will solve the system specifically for group 1, design 1.\n",
    "\n",
    "For design 1, $\\alpha_{12} = \\alpha_{22} = \\alpha_{14} = 1$. The state equations then reduce to:\n",
    "\n",
    "$$\\frac{dg_1p}{dt} = 0 = \\alpha_{11}\\alpha_{21}u_1 - u_2$$\n",
    "$$\\frac{dg_2p}{dt} = 0 = \\alpha_{13}u_3 - u_4$$\n",
    "\n",
    "We will solve each of these equations for $g_1p$ and $g_2p$\n",
    "\n",
    "## $g_1p$ nullcline\n",
    "\n",
    "The $g_1p$ nullcline is the solution for the equation $\\frac{dg_1p}{dt} = 0$. We notice that $\\alpha_{21}$ is a function of only $g_2p$, while $\\alpha_{11}, u_1, u_2$ are all functions of $g_1p$. It is possible to express $g_2p$ as a function of $g_1p$ as follows:\n",
    "\n",
    "$$\\alpha_{11}\\alpha_{21}u_1 = u_2$$\n",
    "$$\\alpha_{21} = \\frac{u_2}{\\alpha_{11}u_1}$$\n",
    "\n",
    "Let $x = \\frac{u_2}{\\alpha_{11}u_1} = f(g_1p)$. Then,\n",
    "\n",
    "$$\\frac{1 + a_{21}*g_2p/m_{21}}{1 + g_2p/m_{21}} = x$$\n",
    "\n",
    "Rearranging,\n",
    "\n",
    "$$1 + a_{21} \\frac{g_2p}{m_{21}} = x + x \\frac{g_2p}{m_{21}}$$\n",
    "\n",
    "$$(a_{21} - x)\\frac{g_2p}{m_{21}} = x - 1$$\n",
    "\n",
    "$$g_2p = m_{21}\\frac{x - 1}{a_{21} - x}$$\n",
    "\n",
    "We now have $g_2p$ in a form that can be solved for any input value of $g_1p$."
   ]
  },
  {
   "cell_type": "code",
   "execution_count": 1,
   "id": "d5654f9a-58de-42e0-b10c-4534769966ba",
   "metadata": {},
   "outputs": [],
   "source": [
    "import numpy as np\n",
    "import matplotlib.pyplot as plt\n",
    "import pandas as pd"
   ]
  },
  {
   "cell_type": "code",
   "execution_count": 2,
   "id": "61106fab-0c0c-437d-a7c8-f2abbfa842d9",
   "metadata": {},
   "outputs": [],
   "source": [
    "# get parameter values from Table S1.\n",
    "# using Design 1, Group 1.\n",
    "\n",
    "r1 = 5\n",
    "r2 = 4\n",
    "m1 = 0.7\n",
    "m2 = 0.15\n",
    "\n",
    "a11 = 200\n",
    "m11 = 4\n",
    "a21 = 0.02\n",
    "m21 = 0.04\n",
    "\n",
    "g1p_nullcline_params = [r1, r2, m1, m2, a11, m11, a21, m21]\n",
    "var_range = np.arange(0.01, 1, 0.01)"
   ]
  },
  {
   "cell_type": "code",
   "execution_count": 3,
   "id": "afba77e1-e9d6-4502-932a-e324d5d7762a",
   "metadata": {},
   "outputs": [],
   "source": [
    "def g1p_nullcline_fun(g1p, params):\n",
    "    r1, r2, m1, m2, a11, m11, a21, m21 = params\n",
    "    \n",
    "    u1 = r1 * ((1-g1p)/m1) / (1 + (1-g1p)/m1)\n",
    "    u2 = r2 * (g1p/m2) / (1 + g1p/m2)\n",
    "    alpha11 = (1 + a11*g1p/m11) / (1 + g1p/m11)\n",
    "    \n",
    "    x = u2 / (alpha11 * u1)\n",
    "    \n",
    "    g2p = m21*(x - 1)/(a21 - x)\n",
    "    \n",
    "    return g2p"
   ]
  },
  {
   "cell_type": "code",
   "execution_count": 4,
   "id": "cce5d5b8-3d54-421b-83f1-1ae60cc43f48",
   "metadata": {},
   "outputs": [],
   "source": [
    "g1p_nullcline_out = [g1p_nullcline_fun(g1p, g1p_nullcline_params) for g1p in var_range]\n",
    "g1p_nullcline = pd.DataFrame({\"g1p\": var_range, \"g2p\": g1p_nullcline_out})"
   ]
  },
  {
   "cell_type": "code",
   "execution_count": 5,
   "id": "12b1242a-4ee2-495c-a5f5-608163aaddc8",
   "metadata": {},
   "outputs": [
    {
     "data": {
      "text/plain": [
       "[<matplotlib.lines.Line2D at 0x7fc4ec6f2af0>]"
      ]
     },
     "execution_count": 5,
     "metadata": {},
     "output_type": "execute_result"
    },
    {
     "data": {
      "image/png": "[encoded data removed]",
      "text/plain": [
       "<Figure size 432x288 with 1 Axes>"
      ]
     },
     "metadata": {
      "needs_background": "light"
     },
     "output_type": "display_data"
    }
   ],
   "source": [
    "plt.plot(g1p_nullcline['g1p'], g1p_nullcline['g2p'])"
   ]
  },
  {
   "cell_type": "markdown",
   "id": "419f4645-ad74-449a-96af-5acc7d218a62",
   "metadata": {},
   "source": [
    "## $g_2p$ nullcline\n",
    "\n",
    "The $g_2p$ nullcline can be derived similarly.\n",
    "\n",
    "This time the equation is $\\alpha_{13}u_3 - u_4 = 0$. Notice that $\\alpha_{13}$ is a function of $g_1p$ while $u_3$ and $u_4$ are both functions of $g_2p$. Therefore, this time we rearrange the equation so that $g_1p$ is a function of $g_2p$.\n",
    "\n",
    "$$\\alpha_{13} = \\frac{u_4}{u_3}$$\n",
    "\n",
    "Let $y = \\frac{u_4}{u_3} = f(g_2p)$. Then,\n",
    "\n",
    "$$\\alpha_{13} = y$$\n",
    "\n",
    "Substituting for $\\alpha_{13}$:\n",
    "\n",
    "$$\\frac{1 + a_{13}*g_1p/m_{13}}{1 + g_1p/m_{13}} = y$$\n",
    "\n",
    "Rearranging:\n",
    "\n",
    "$$1 + a_{13}\\frac{g_1p}{m_{13}} = y + y\\frac{g_1p}{m_{13}}$$\n",
    "\n",
    "$$(a_{13} - y)\\frac{g_1p}{m_{13}} = y - 1$$\n",
    "\n",
    "$$g_1p = m_{13}\\frac{y - 1}{a_{13} - y}$$"
   ]
  },
  {
   "cell_type": "code",
   "execution_count": 6,
   "id": "8aa40f21-2486-4a40-82c1-5c938c5c4c7b",
   "metadata": {},
   "outputs": [],
   "source": [
    "r3 = 0.13\n",
    "r4 = 0.072\n",
    "m3 = 0.6\n",
    "m4 = 0.05\n",
    "\n",
    "a13 = 100\n",
    "m13 = 40\n",
    "\n",
    "g2p_nullcline_params = [r3, r4, m3, m4, a13, m13]"
   ]
  },
  {
   "cell_type": "code",
   "execution_count": 7,
   "id": "6991b32b-41cc-48e1-acef-0b73e885cecf",
   "metadata": {},
   "outputs": [],
   "source": [
    "def g2p_nullcline_fun(g2p, params):\n",
    "    r3, r4, m3, m4, a13, m13 = params\n",
    "    \n",
    "    u3 = r3 * ((1 - g2p)/m3) / (1 + (1 - g2p)/m3)\n",
    "    u4 = r4 * (g2p/m4) / (1 + g2p/m4)\n",
    "    \n",
    "    y = u4 / u3\n",
    "    \n",
    "    g1p = m13 * (y - 1)/(a13 - y)\n",
    "    \n",
    "    return g1p"
   ]
  },
  {
   "cell_type": "code",
   "execution_count": 10,
   "id": "006dcd44-4e73-4bda-879b-3c8b180ea35a",
   "metadata": {},
   "outputs": [],
   "source": [
    "g2p_nullcline_out = [g2p_nullcline_fun(g2p, g2p_nullcline_params) for g2p in var_range]\n",
    "inrange_idx = [i for i, val in enumerate(g2p_nullcline_out) if 0 < val < 1]\n",
    "g2p_nullcline = pd.DataFrame({\"g1p\": np.array(g2p_nullcline_out)[inrange_idx], \n",
    "                              \"g2p\": var_range[inrange_idx]})"
   ]
  },
  {
   "cell_type": "code",
   "execution_count": 11,
   "id": "ad77bf07-67c4-41bc-84bb-0940239916d4",
   "metadata": {},
   "outputs": [
    {
     "data": {
      "text/plain": [
       "[<matplotlib.lines.Line2D at 0x7fc4ebaf2100>]"
      ]
     },
     "execution_count": 11,
     "metadata": {},
     "output_type": "execute_result"
    },
    {
     "data": {
      "image/png": "[encoded data removed]",
      "text/plain": [
       "<Figure size 432x288 with 1 Axes>"
      ]
     },
     "metadata": {
      "needs_background": "light"
     },
     "output_type": "display_data"
    }
   ],
   "source": [
    "plt.plot(g2p_nullcline[\"g1p\"], g2p_nullcline[\"g2p\"])"
   ]
  },
  {
   "cell_type": "markdown",
   "id": "f0995046-e562-4327-bfab-3bf241223a7f",
   "metadata": {},
   "source": [
    "## Plotting both together"
   ]
  },
  {
   "cell_type": "code",
   "execution_count": 12,
   "id": "fe648526-88b0-423b-80e8-283fa490e818",
   "metadata": {},
   "outputs": [
    {
     "data": {
      "text/plain": [
       "Text(0, 0.5, '$g_2p$')"
      ]
     },
     "execution_count": 12,
     "metadata": {},
     "output_type": "execute_result"
    },
    {
     "data": {
      "image/png": "[encoded data removed]",
      "text/plain": [
       "<Figure size 432x288 with 1 Axes>"
      ]
     },
     "metadata": {
      "needs_background": "light"
     },
     "output_type": "display_data"
    }
   ],
   "source": [
    "plt.plot(g1p_nullcline[\"g1p\"], g1p_nullcline[\"g2p\"], label = \"g1p nullcline\")\n",
    "plt.plot(g2p_nullcline[\"g1p\"], g2p_nullcline[\"g2p\"], label = \"g2p nullcline\")\n",
    "plt.legend()\n",
    "plt.xlabel(f\"$g_1p$\")\n",
    "plt.ylabel(f\"$g_2p$\")"
   ]
  },
  {
   "cell_type": "code",
   "execution_count": null,
   "id": "42156226-d237-4d02-81b2-8501bd5b4f48",
   "metadata": {},
   "outputs": [],
   "source": []
  }
 ],
 "metadata": {
  "kernelspec": {
   "display_name": "Python 3",
   "language": "python",
   "name": "python3"
  },
  "language_info": {
   "codemirror_mode": {
    "name": "ipython",
    "version": 3
   },
   "file_extension": ".py",
   "mimetype": "text/x-python",
   "name": "python",
   "nbconvert_exporter": "python",
   "pygments_lexer": "ipython3",
   "version": "3.9.12"
  }
 },
 "nbformat": 4,
 "nbformat_minor": 5
}
